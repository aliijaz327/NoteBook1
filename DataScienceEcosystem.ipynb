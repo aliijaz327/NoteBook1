{
 "cells": [
  {
   "cell_type": "markdown",
   "id": "3a180845-511b-4fd7-b260-cfd85c4bd8eb",
   "metadata": {
    "jupyter": {
     "outputs_hidden": true
    },
    "tags": []
   },
   "source": [
    "<h1>Data Science Tools and Ecosystem</h1>"
   ]
  },
  {
   "cell_type": "markdown",
   "id": "7aa62b1b-f288-46ff-bf9d-34ccd99c525a",
   "metadata": {
    "tags": []
   },
   "source": [
    "In this notebook, Data Science Tools and Ecosystem are summarized."
   ]
  },
  {
   "cell_type": "markdown",
   "id": "13fd08e0-60c9-4046-8b5d-aab50282a410",
   "metadata": {},
   "source": [
    "Some of the popular languages that Data Scientists use are:\n",
    "<ol>\n",
    "    <li>R</li>\n",
    "    <li>Python</li>\n",
    "    <li>SQL</li>\n",
    "    </ol>"
   ]
  },
  {
   "cell_type": "markdown",
   "id": "004c3a73-fbaa-4240-a5c2-8dbf3f90a368",
   "metadata": {},
   "source": [
    "Some of the commonly used libraries used by Data Scientists include:\n",
    "    <ol>\n",
    "    <li>TensorFlow</li>\n",
    "    <li>Pandas</li>\n",
    "    <li>NumPy</li>\n",
    "    </ol>"
   ]
  },
  {
   "cell_type": "markdown",
   "id": "afd445a8-837d-4210-b2f4-45ae9480e0de",
   "metadata": {},
   "source": [
    "<table>\n",
    "  <thead>\n",
    "    <tr>\n",
    "      <th>Data Science Tools</th>\n",
    "    </tr>\n",
    "  </thead>\n",
    "  <tbody>\n",
    "    <tr>\n",
    "      <td>Anaconda</td>\n",
    "    </tr>\n",
    "    <tr>\n",
    "      <td>Jupyter Notebook</td>\n",
    "    </tr>\n",
    "    <tr>\n",
    "      <td>R Studio</td>\n",
    "    </tr>\n",
    "  </tbody>\n",
    "</table>"
   ]
  },
  {
   "cell_type": "markdown",
   "id": "3d804a9d-fd8c-4b00-81d1-c65966b000ba",
   "metadata": {},
   "source": [
    "<h3>Below are a few examples of evaluating arithmetic expressions in Python</h3>"
   ]
  },
  {
   "cell_type": "code",
   "execution_count": 4,
   "id": "c1cd71f4-b3f6-46af-9b8b-8cd993f561c5",
   "metadata": {
    "tags": []
   },
   "outputs": [
    {
     "data": {
      "text/plain": [
       "17"
      ]
     },
     "execution_count": 4,
     "metadata": {},
     "output_type": "execute_result"
    }
   ],
   "source": [
    "# This a simple arithmetic expression to mutiply then add integers\n",
    "(3*4)+5"
   ]
  },
  {
   "cell_type": "code",
   "execution_count": 5,
   "id": "d9a39b1a-e15f-4321-a573-ceede9bdc360",
   "metadata": {
    "tags": []
   },
   "outputs": [
    {
     "data": {
      "text/plain": [
       "3.3333333333333335"
      ]
     },
     "execution_count": 5,
     "metadata": {},
     "output_type": "execute_result"
    }
   ],
   "source": [
    "# This will convert 200 minutes to hours by diving by 60\n",
    "200/60"
   ]
  },
  {
   "cell_type": "markdown",
   "id": "f11ccfd0-81f7-4e37-a164-551b28e3b74a",
   "metadata": {},
   "source": [
    "**Objectives:**\n",
    "<ul>\n",
    "  <li>Add comments the code cell</li>\n",
    "  <li>Create a markdown cell</li>\n",
    "  <li>Add order and unordered list in the markdown cell</li>\n",
    "</ul>\n"
   ]
  },
  {
   "cell_type": "markdown",
   "id": "b83d5089-dd79-443c-97e1-255c269d302e",
   "metadata": {
    "tags": []
   },
   "source": [
    "<h2>Author</h2>\n",
    "ALI IJAZ"
   ]
  },
  {
   "cell_type": "code",
   "execution_count": null,
   "id": "4599d1c9-abe1-43a1-89fb-8bb722136bcb",
   "metadata": {},
   "outputs": [],
   "source": []
  }
 ],
 "metadata": {
  "kernelspec": {
   "display_name": "Python",
   "language": "python",
   "name": "conda-env-python-py"
  },
  "language_info": {
   "codemirror_mode": {
    "name": "ipython",
    "version": 3
   },
   "file_extension": ".py",
   "mimetype": "text/x-python",
   "name": "python",
   "nbconvert_exporter": "python",
   "pygments_lexer": "ipython3",
   "version": "3.7.12"
  }
 },
 "nbformat": 4,
 "nbformat_minor": 5
}
